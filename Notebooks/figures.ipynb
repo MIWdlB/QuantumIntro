{
 "cells": [
  {
   "cell_type": "code",
   "execution_count": null,
   "metadata": {
    "slideshow": {
     "slide_type": "skip"
    }
   },
   "outputs": [],
   "source": [
    "from matplotlib import pyplot as plt\n",
    "import numpy as np\n",
    "from scipy.special import factorial as fac"
   ]
  },
  {
   "cell_type": "code",
   "execution_count": null,
   "metadata": {
    "slideshow": {
     "slide_type": "skip"
    }
   },
   "outputs": [],
   "source": [
    "linear = np.linspace(0, 10, 1000)\n",
    "const = np.array([1]*1000)\n",
    "squares = linear ** 2\n",
    "expontential = 2 ** linear\n",
    "factorial = fac(linear)"
   ]
  },
  {
   "cell_type": "code",
   "execution_count": null,
   "metadata": {
    "slideshow": {
     "slide_type": "skip"
    }
   },
   "outputs": [],
   "source": [
    "def plot_compute_time(namelist):\n",
    "    data = {\n",
    "        'linear': np.linspace(0, 10, 1000),\n",
    "        'const': np.array([1]*1000),\n",
    "        'polynomial': np.linspace(0, 10, 1000) ** 2,\n",
    "        'exponential': 2 ** np.linspace(0, 10, 1000),\n",
    "        'factorial': fac(np.linspace(0, 10, 1000)),\n",
    "    }\n",
    "\n",
    "    fig, ax = plt.subplots()\n",
    "    for item in namelist:\n",
    "        ax.plot(data[item], label=str(item))\n",
    "        \n",
    "    ax.set_xticklabels(np.arange(-2, 12, 2))\n",
    "    ax.set_xlabel('Size of input')\n",
    "    ax.set_ylabel('Time to compute')\n",
    "    ax.legend()\n",
    "    plt.show()\n",
    "\n"
   ]
  },
  {
   "cell_type": "markdown",
   "metadata": {
    "slideshow": {
     "slide_type": "slide"
    }
   },
   "source": [
    "Check odd or even\n",
    "\n",
    "Add two numbers"
   ]
  },
  {
   "cell_type": "code",
   "execution_count": null,
   "metadata": {
    "slideshow": {
     "slide_type": "fragment"
    }
   },
   "outputs": [],
   "source": [
    "plot_compute_time(['const', 'linear'])"
   ]
  },
  {
   "cell_type": "code",
   "execution_count": null,
   "metadata": {},
   "outputs": [],
   "source": [
    "plot_compute_time(['const', 'linear','polynomial'])"
   ]
  },
  {
   "cell_type": "code",
   "execution_count": null,
   "metadata": {},
   "outputs": [],
   "source": [
    "plot_compute_time(['const', 'linear','polynomial', 'exponential'])"
   ]
  },
  {
   "cell_type": "code",
   "execution_count": null,
   "metadata": {},
   "outputs": [],
   "source": [
    "plot_compute_time(['const', 'linear','polynomial', 'exponential', 'factorial'])"
   ]
  },
  {
   "cell_type": "markdown",
   "metadata": {},
   "source": [
    "$$\n",
    "\\ket{\\Psi} = \\alpha \\ket{0} + \\beta \\ket{1}\n",
    "$$"
   ]
  },
  {
   "cell_type": "code",
   "execution_count": null,
   "metadata": {},
   "outputs": [],
   "source": [
    "%%latex\n",
    "\\begin{equation}\n",
    "\\ket{\\Psi} = \\alpha \\ket{0} + \\beta \\ket{1}\n",
    "\\end{equation}\n"
   ]
  },
  {
   "cell_type": "markdown",
   "metadata": {},
   "source": [
    "$$\n",
    "\n",
    "$$"
   ]
  },
  {
   "cell_type": "code",
   "execution_count": null,
   "metadata": {},
   "outputs": [],
   "source": [
    "%%latex\n",
    "\\begin{equation}\n",
    "\\ket{\\Psi} = \\frac{1}{\\sqrt{2}} \\ket{0} + \\frac{1}{\\sqrt{2}} \\ket{1}\n",
    "\\end{equation}"
   ]
  },
  {
   "cell_type": "code",
   "execution_count": null,
   "metadata": {},
   "outputs": [],
   "source": [
    "%%latex\n",
    "\\begin{equation}\n",
    "\\bra{x} = \\begin{pmatrix}\n",
    "x_0, x_1, \\dots, x_{n-1}\n",
    "\\end{pmatrix}\n",
    "\\end{equation}\n",
    "\n",
    "\\begin{equation}\n",
    "\\ket{z} = \\begin{pmatrix}\n",
    "z_0 \\\\ z_1 \\\\ \\vdots \\\\ z_{n-1}\n",
    "\\end{pmatrix}\n",
    "\\end{equation}"
   ]
  },
  {
   "cell_type": "code",
   "execution_count": null,
   "metadata": {},
   "outputs": [],
   "source": [
    "%%latex\n",
    "\\begin{equation}\n",
    "2 \\ket{z} = \\begin{pmatrix}\n",
    "2z_0 \\\\ 2z_1 \\\\ \\vdots \\\\ 2z_{n-1}\n",
    "\\end{pmatrix}\n",
    "\\end{equation}"
   ]
  },
  {
   "cell_type": "code",
   "execution_count": null,
   "metadata": {},
   "outputs": [],
   "source": [
    "%%latex\n",
    "\\begin{equation}\n",
    "\\bra{x} = \\begin{pmatrix}\n",
    "x_0, x_1, \\dots, x_{n-1}\n",
    "\\end{pmatrix}\n",
    "\\end{equation}\n",
    "\n",
    "\\begin{equation}\n",
    "\\braket{x|z} =\n",
    "\\begin{pmatrix}\n",
    "x_0, x_1, \\dots, x_{n-1}\n",
    "\\end{pmatrix}\n",
    "\\begin{pmatrix}\n",
    "z_0 \\\\ z_1 \\\\ \\vdots \\\\ z_{n-1}\n",
    "\\end{pmatrix}\n",
    "\\end{equation}\n",
    "\n",
    "\\begin{equation}\n",
    "\\braket{x|z} =\n",
    "x_0 * z_0 + x_1 * z_1 + \\dots + x_{n-1} * z_{n-1}\n",
    "\\end{equation}"
   ]
  },
  {
   "cell_type": "code",
   "execution_count": null,
   "metadata": {},
   "outputs": [],
   "source": [
    "import numpy as np\n",
    "import matplotlib.pyplot as plt\n",
    "\n",
    "#Get absolute maxes for axis ranges to center origin\n",
    "#This is optional\n",
    "maxes = 1.1*np.amax(abs(M), axis = 0)\n",
    "\n",
    "fig = plt.figure(figsize=(6,6))\n",
    "ax = fig.add_subplot(autoscale_on=False, xlim=(-1,4), ylim=(-1,4))\n",
    "ax.set_aspect('equal')\n",
    "\n",
    "ax.arrow(0,0,3,0, color='b')\n",
    "ax.arrow(3,0,0,2, color='r')\n",
    "ax.arrow(0,0,3,2)\n",
    "\n",
    "ax.plot(0,0,'ok') #<-- plot a black point at the origin\n",
    "ax.grid(which='major') #<-- plot grid lines\n",
    "# plt.gca.set_aspect('equal', adjustable='box')\n",
    "fig.show()"
   ]
  },
  {
   "cell_type": "code",
   "execution_count": null,
   "metadata": {},
   "outputs": [],
   "source": [
    "import numpy as np\n",
    "import matplotlib.pyplot as plt\n",
    "\n",
    "#Get absolute maxes for axis ranges to center origin\n",
    "#This is optional\n",
    "fig = plt.figure(figsize=(6,6))\n",
    "ax = fig.add_subplot(autoscale_on=False, xlim=(-1,4), ylim=(-1,4))\n",
    "ax.set_aspect('equal')\n",
    "\n",
    "ax.arrow(0,0,3,0, color='b', linewidth=2)\n",
    "ax.arrow(0,0,0,2, color='r', linewidth=2)\n",
    "# ax.arrow(0,0,3,2)\n",
    "\n",
    "ax.plot(0,0,'ok') #<-- plot a black point at the origin\n",
    "ax.grid(which='major') #<-- plot grid lines\n",
    "# plt.gca.set_aspect('equal', adjustable='box')\n",
    "fig.show()"
   ]
  },
  {
   "cell_type": "code",
   "execution_count": null,
   "metadata": {},
   "outputs": [],
   "source": [
    "import numpy as np\n",
    "import matplotlib.pyplot as plt\n",
    "\n",
    "#Get absolute maxes for axis ranges to center origin\n",
    "#This is optional\n",
    "fig = plt.figure(figsize=(6,6))\n",
    "ax = fig.add_subplot(autoscale_on=False, xlim=(-1,4), ylim=(-1,4))\n",
    "ax.set_aspect('equal')\n",
    "\n",
    "ax.arrow(0,0,3,0, color='b', linewidth=2)\n",
    "ax.arrow(3,0,0,2, color='r', linewidth=2)\n",
    "# ax.arrow(0,0,3,2)\n",
    "\n",
    "ax.plot(0,0,'ok') #<-- plot a black point at the origin\n",
    "ax.grid(which='major') #<-- plot grid lines\n",
    "# plt.gca.set_aspect('equal', adjustable='box')\n",
    "fig.show()"
   ]
  },
  {
   "cell_type": "code",
   "execution_count": null,
   "metadata": {},
   "outputs": [],
   "source": [
    " \n",
    "#Get absolute maxes for axis ranges to center origin\n",
    "#This is optional\n",
    "fig = plt.figure(figsize=(6,6))\n",
    "ax = fig.add_subplot(autoscale_on=False, xlim=(-1,4), ylim=(-1,4))\n",
    "ax.set_aspect('equal')\n",
    "\n",
    "ax.arrow(0,0,3,0, color='b', linewidth=1)\n",
    "ax.arrow(3,0,0,2, color='r', linewidth=1)\n",
    "ax.arrow(0,0,3,2, linewidth=2)\n",
    "\n",
    "ax.plot(0,0,'ok') #<-- plot a black point at the origin\n",
    "ax.grid(which='major') #<-- plot grid lines\n",
    "# plt.gca.set_aspect('equal', adjustable='box')\n",
    "fig.show()"
   ]
  },
  {
   "cell_type": "code",
   "execution_count": null,
   "metadata": {},
   "outputs": [],
   "source": [
    "#Get absolute maxes for axis ranges to center origin\n",
    "#This is optional\n",
    "fig = plt.figure(figsize=(6,6))\n",
    "ax = fig.add_subplot(autoscale_on=False, xlim=(-1,4), ylim=(-1,4))\n",
    "ax.set_aspect('equal')\n",
    "\n",
    "ax.arrow(3,2,-1,1, color='b', linewidth=1)\n",
    "ax.arrow(0,0,3,2, color='r', linewidth=1)\n",
    "ax.arrow(0,0,2,3, linewidth=2, joinstyle='round')\n",
    "\n",
    "ax.plot(0,0,'ok') #<-- plot a black point at the origin\n",
    "ax.grid(which='major') #<-- plot grid lines\n",
    "# plt.gca.set_aspect('equal', adjustable='box')\n",
    "fig.show()"
   ]
  },
  {
   "cell_type": "code",
   "execution_count": null,
   "metadata": {},
   "outputs": [],
   "source": [
    " \n",
    "#Get absolute maxes for axis ranges to center origin\n",
    "#This is optional\n",
    "fig = plt.figure(figsize=(6,6))\n",
    "ax = fig.add_subplot(autoscale_on=False, xlim=(-1,4), ylim=(-1,4))\n",
    "ax.set_aspect('equal')\n",
    "\n",
    "ax.arrow(0,0,3,0, color='b', linewidth=1, linestyle='dotted')\n",
    "ax.arrow(3,0,0,2, color='r', linewidth=1, linestyle='dotted')\n",
    "ax.arrow(0,0,3,2, linewidth=1, linestyle='dotted')\n",
    "ax.arrow(0,0,3/2.,0, color='b', linewidth=1)\n",
    "ax.arrow(3/2.,0,0,2/2., color='r', linewidth=1)\n",
    "ax.arrow(0,0,3/2.,2/2., linewidth=2)\n",
    "\n",
    "ax.plot(0,0,'ok') #<-- plot a black point at the origin\n",
    "ax.grid(which='major') #<-- plot grid lines\n",
    "# plt.gca.set_aspect('equal', adjustable='box')\n",
    "fig.show()"
   ]
  },
  {
   "cell_type": "code",
   "execution_count": null,
   "metadata": {},
   "outputs": [],
   "source": [
    "#Get absolute maxes for axis ranges to center origin\n",
    "#This is optional\n",
    "fig = plt.figure(figsize=(6,6))\n",
    "ax = fig.add_subplot(autoscale_on=False, xlim=(-1,4), ylim=(-1,4))\n",
    "ax.set_aspect('equal')\n",
    "\n",
    "\n",
    "ax.arrow(0,0,2.,2., linewidth=2)\n",
    "ax.arrow(0,0,2.,0, color='black', linestyle='--', linewidth=1)\n",
    "ax.arrow(0.,0,4,0., color='r', linewidth=1)\n",
    "\n",
    "ax.plot(0,0,'ok') #<-- plot a black point at the origin\n",
    "ax.grid(which='major') #<-- plot grid lines\n",
    "# plt.gca.set_aspect('equal', adjustable='box')\n",
    "fig.show()"
   ]
  },
  {
   "cell_type": "code",
   "execution_count": null,
   "metadata": {},
   "outputs": [],
   "source": [
    "import numpy as np\n",
    "import matplotlib.pyplot as plt\n",
    "\n",
    "#Get absolute maxes for axis ranges to center origin\n",
    "#This is optional\n",
    " \n",
    "fig = plt.figure(figsize=(6,6))\n",
    "ax = fig.add_subplot(autoscale_on=False, xlim=(-1,1), ylim=(-1,1))\n",
    "ax.set_aspect('equal')\n",
    "\n",
    "ax.arrow(0,0,1,0, color='b')\n",
    "\n",
    "ax.plot(0,0,'ok') #<-- plot a black point at the origin\n",
    "ax.grid(which='major') #<-- plot grid lines\n",
    "# plt.gca.set_aspect('equal', adjustable='box')\n",
    "fig.show()"
   ]
  },
  {
   "cell_type": "code",
   "execution_count": null,
   "metadata": {},
   "outputs": [],
   "source": [
    "#Get absolute maxes for axis ranges to center origin\n",
    "#This is optional\n",
    "fig = plt.figure(figsize=(6,6))\n",
    "ax = fig.add_subplot(autoscale_on=False, xlim=(-9,9), ylim=(-9,9))\n",
    "ax.set_aspect('equal')\n",
    "\n",
    "# ax.arrow(0,0,3,0, color='b', linewidth=1, linestyle='-')\n",
    "# ax.arrow(3,0,0,2, color='r', linewidth=1, linestyle='-')\n",
    "# ax.arrow(0,0,3,2, linewidth=1, linestyle='-')\n",
    "ax.arrow(0,0,3.,-3, color='b', linewidth=1)\n",
    "ax.arrow(3.,-3,5,1., color='r', linewidth=1)\n",
    "ax.arrow(0,0,8.,-2., linewidth=2)\n",
    "\n",
    "ax.plot(0,0,'ok') #<-- plot a black point at the origin\n",
    "ax.grid(which='major') #<-- plot grid lines\n",
    "# plt.gca.set_aspect('equal', adjustable='box')\n",
    "fig.show()"
   ]
  },
  {
   "cell_type": "code",
   "execution_count": 4,
   "metadata": {},
   "outputs": [
    {
     "data": {
      "image/png": "[encoded data removed]",
      "text/plain": [
       "<Figure size 600x600 with 1 Axes>"
      ]
     },
     "metadata": {},
     "output_type": "display_data"
    }
   ],
   "source": [
    "import numpy as np\n",
    "import matplotlib.pyplot as plt\n",
    "%matplotlib inline\n",
    "#Get absolute maxes for axis ranges to center origin\n",
    "#This is optional\n",
    "fig = plt.figure(figsize=(6,6))\n",
    "ax = fig.add_subplot(autoscale_on=False, xlim=(-1,4), ylim=(-1,4))\n",
    "ax.set_aspect('equal')\n",
    "\n",
    "\n",
    "ax.arrow(0,0,2.,2., linewidth=2)\n",
    "ax.arrow(0,0,2.,0, color='black', linestyle='--', linewidth=1)\n",
    "ax.arrow(0.,0,4,0., color='r', linewidth=1)\n",
    "\n",
    "ax.plot(0,0,'ok') #<-- plot a black point at the origin\n",
    "ax.grid(which='major') #<-- plot grid lines\n",
    "# plt.gca.set_aspect('equal', adjustable='box')\n",
    "plt.show()"
   ]
  },
  {
   "cell_type": "code",
   "execution_count": null,
   "metadata": {},
   "outputs": [],
   "source": []
  }
 ],
 "metadata": {
  "celltoolbar": "Slideshow",
  "kernelspec": {
   "display_name": "Python 3 (ipykernel)",
   "language": "python",
   "name": "python3"
  },
  "language_info": {
   "codemirror_mode": {
    "name": "ipython",
    "version": 3
   },
   "file_extension": ".py",
   "mimetype": "text/x-python",
   "name": "python",
   "nbconvert_exporter": "python",
   "pygments_lexer": "ipython3",
   "version": "3.9.5"
  }
 },
 "nbformat": 4,
 "nbformat_minor": 2
}
